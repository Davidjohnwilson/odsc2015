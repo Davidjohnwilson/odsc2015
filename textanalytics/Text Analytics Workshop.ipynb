{
 "metadata": {
  "name": "",
  "signature": "sha256:8fceb061ae8e30c39bff6dd17a74c2ffc08b7e14cfd1f23fdd6a0d0bbe3fcbe0"
 },
 "nbformat": 3,
 "nbformat_minor": 0,
 "worksheets": [
  {
   "cells": [
    {
     "cell_type": "code",
     "collapsed": false,
     "input": [
      "#Code"
     ],
     "language": "python",
     "metadata": {},
     "outputs": []
    }
   ],
   "metadata": {}
  }
 ]
}