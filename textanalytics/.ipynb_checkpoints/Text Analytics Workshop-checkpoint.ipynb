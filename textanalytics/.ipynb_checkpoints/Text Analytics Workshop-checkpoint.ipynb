{
 "cells": [
  {
   "cell_type": "markdown",
   "metadata": {},
   "source": [
    "#Introduction to Text Analytics \n",
    "\n",
    "###Christopher Mack, Basis Technology"
   ]
  },
  {
   "cell_type": "markdown",
   "metadata": {},
   "source": [
    "Unstructured text needs to be broken down and mined to get the raw pieces you need. \n",
    "\n",
    "Basis Technology provides text analysis solutions for customers (they're hiring!). The information todat is part of the Basis Technology University (BTU) that they provide to instruct people. "
   ]
  },
  {
   "cell_type": "markdown",
   "metadata": {},
   "source": [
    "####What is text analytics?\n",
    "\n",
    "The process of deriving high0queslity information from text. Includes things like text mining, NLP and is used for tasks such as categorization, sentiment analysis, entity extraction, resolution, and more. "
   ]
  },
  {
   "cell_type": "markdown",
   "metadata": {},
   "source": [
    "####Where to begin?\n",
    "\n",
    "1. **What problem are you trying to solve?** What does *\"LA beat New York last night\"* mean? if you're doing sports analytics you might have different questions.\n",
    "2. **What data do you you have?** The data you have will impact how you solve the problem. \n",
    "3. **How are you going to measure success?** What does *\"I saw his duck with a telescope\"*? Many different interpretations - language is inherently ambiguous. \n",
    "\n",
    "Because of the fluid nature of language, error rates are inherent to text analytics. So important to consider what is the end user's goals? To avoid false positives? Or false negatives?"
   ]
  },
  {
   "cell_type": "markdown",
   "metadata": {},
   "source": [
    "###Resources\n",
    "\n",
    "####Natural Language Processing with Python\n",
    "\n",
    "Great book for learning about NLP if you are just starting. O'Reilly and available [online](http://www.nltk.org/book/). Contains a lot of exmaples and code - some of the code in this workshop are from this book. \n",
    "\n",
    "####iPython Notebook\n",
    "\n",
    "Will have sample code available in notebook form in a [GitHub Repo](https://github.com/cgmack/odscwest). \n",
    "\n",
    "####Rosette\n",
    "\n",
    "API of the code from Basis Technology. Currently in beta at [developer.rosette.com](https://developer.rosette.com) and the password needed when you go to \"Developers > Start your beta trial\" is **`b188cbe2eb`**.\n",
    "\n",
    "\n",
    "####Slides\n",
    "The slides are available [online](https://goo.gl/fQjjzb)."
   ]
  },
  {
   "cell_type": "markdown",
   "metadata": {},
   "source": [
    "##What are the building blocks of Text Analysis? \n",
    "\n",
    "Consider the most basic blocks and move to the most complex. Value increases as you go but errors also amplify.\n",
    "\n",
    "####Where is your content? \n",
    "\n",
    "Can be OCR, embedded, in a particular format (XML etc), Kruft (content surrounding the content you are talking about), encodings, etc."
   ]
  },
  {
   "cell_type": "markdown",
   "metadata": {},
   "source": [
    "##NLTK Corpora\n",
    "\n",
    "Open corpus of data. \n",
    "\n",
    "##Language\n",
    "\n",
    "####Do you know the language? \n",
    "\n",
    "If you have an assumption on the classification of the language of a piece of text, you will end up applying very different models. If you use the wrong language you will end up with nonsense. \n",
    "\n",
    "####How do you go about finding out the language? \n",
    "\n",
    "You might look at the alphabet - but no use among latin languages. Key idea is N-grams: looking at connected elements. This can be pairs of letters or pairs of words. \n",
    "\n",
    "What makes it tricky? Short strings, multiple language documents, machine translation. "
   ]
  },
  {
   "cell_type": "code",
   "execution_count": 1,
   "metadata": {
    "collapsed": false
   },
   "outputs": [
    {
     "name": "stdout",
     "output_type": "stream",
     "text": [
      "War doesn't show who's right, just who's left.\n",
      "en\n",
      "Ein, zwei, drei, vier\n",
      "de\n"
     ]
    }
   ],
   "source": [
    "# Install langdetect\n",
    "# pip install langdect\n",
    "\n",
    "# Example Usage of LangDetect\n",
    "from langdetect import detect\n",
    "print \"War doesn't show who's right, just who's left.\"\n",
    "print detect(\"War doesn't show who's right, just who's left.\")\n",
    "\n",
    "# German Example\n",
    "print \"Ein, zwei, drei, vier\"\n",
    "print detect(\"Ein, zwei, drei, vier\")"
   ]
  },
  {
   "cell_type": "code",
   "execution_count": 2,
   "metadata": {
    "collapsed": false
   },
   "outputs": [
    {
     "name": "stdout",
     "output_type": "stream",
     "text": [
      "kitchen\n",
      "de\n"
     ]
    }
   ],
   "source": [
    "# Challenge of short strings\n",
    "print \"kitchen\"\n",
    "print detect(\"kitchen\")"
   ]
  },
  {
   "cell_type": "markdown",
   "metadata": {},
   "source": [
    "Now use some of the corpus from NLTK. We use the book of genesis translated into multiple languages."
   ]
  },
  {
   "cell_type": "code",
   "execution_count": 3,
   "metadata": {
    "collapsed": false
   },
   "outputs": [
    {
     "name": "stdout",
     "output_type": "stream",
     "text": [
      "[nltk_data] Downloading package genesis to /Users/david-\n",
      "[nltk_data]     personal/nltk_data...\n",
      "[nltk_data]   Package genesis is already up-to-date!\n"
     ]
    },
    {
     "data": {
      "text/plain": [
       "[u'english-kjv.txt',\n",
       " u'english-web.txt',\n",
       " u'finnish.txt',\n",
       " u'french.txt',\n",
       " u'german.txt',\n",
       " u'lolcat.txt',\n",
       " u'portuguese.txt',\n",
       " u'swedish.txt']"
      ]
     },
     "execution_count": 3,
     "metadata": {},
     "output_type": "execute_result"
    }
   ],
   "source": [
    "# Install NLTK\n",
    "# pip install -U nltk\n",
    "\n",
    "# Import genesis text\n",
    "import nltk\n",
    "nltk.download(\"genesis\")\n",
    "\n",
    "# Detecting the language of a document\n",
    "from nltk.corpus import genesis \n",
    "fileids = genesis.fileids()\n",
    "fileids"
   ]
  },
  {
   "cell_type": "code",
   "execution_count": 4,
   "metadata": {
    "collapsed": false
   },
   "outputs": [
    {
     "data": {
      "text/plain": [
       "u'Oh hai. In teh beginnin Ceiling Cat maded teh skiez An da Urfs, but he did not eated dem.\\nDa Urfs no'"
      ]
     },
     "execution_count": 4,
     "metadata": {},
     "output_type": "execute_result"
    }
   ],
   "source": [
    "# Inspect the the lolcat.txt file\n",
    "raw = genesis.raw(fileids=['lolcat.txt'])\n",
    "raw[:100]"
   ]
  },
  {
   "cell_type": "code",
   "execution_count": 5,
   "metadata": {
    "collapsed": false
   },
   "outputs": [
    {
     "name": "stdout",
     "output_type": "stream",
     "text": [
      "english-kjv.txt 195515 In the beginning God created t | en\n",
      "english-web.txt 188666 In the beginning God created t | en\n",
      "finnish.txt 193323 Alussa Jumala loi taivaan ja m | fi\n",
      "french.txt 191426 Au commencement, Dieu créa les | fr\n",
      "german.txt 202219 Am Anfang schuf Gott Himmel un | de\n",
      "lolcat.txt 71209 Oh hai. In teh beginnin Ceilin | en\n",
      "portuguese.txt 185172 No princípio, criou Deus os cé | pt\n",
      "swedish.txt 192894 I begynnelsen skapade Gud himm | sv\n"
     ]
    }
   ],
   "source": [
    "# Use Langdetect to on each file\n",
    "for file_name in fileids:\n",
    "    raw = genesis.raw(fileids=[file_name])\n",
    "    print file_name, len(raw), raw[:30], \"|\" ,detect(raw)"
   ]
  },
  {
   "cell_type": "markdown",
   "metadata": {},
   "source": [
    "The following code is using the Rosette API. A beta key is needed to use it. "
   ]
  },
  {
   "cell_type": "code",
   "execution_count": null,
   "metadata": {
    "collapsed": false
   },
   "outputs": [],
   "source": [
    "# Install Rosette\n",
    "# pip install rosette-api\n",
    "\n",
    "# Global Settings for Rosette API\n",
    "rostte_api_uri = \"https://api.rosette.com/rest/v1\" \n",
    "rosette_api_key = \"_insert_your_key_here_\" #60 Day trail developer.rosette.com \n",
    "\n",
    "# Example Usage of Rosette API\n",
    "import json\n",
    "from rosette.api import API, DocumentParameters\n",
    "\n",
    "api = API(service_url=rostte_api_uri, user_key=rosette_api_key)\n",
    "params = DocumentParameters()\n",
    "result = api.ping()\n",
    "print(\"/ping: \", result)\n",
    "\n",
    "# Detect Langauges with Rosette API\n",
    "params[\"content\"] = u\"kitchen\"\n",
    "result = api.language(params)\n",
    "\n",
    "# Language identification results are in descending order of confidence, so the first result is the best.\n",
    "print result[\"languageDetections\"][0][\"language\"]\n",
    "\n",
    "# A method that compares the detected langauge \n",
    "def compare_languages(text, truth):\n",
    "    params[\"content\"] = text\n",
    "    ld_result = detect(text)\n",
    "    rosette_full_result = api.language(params)\n",
    "    rosette_result = rosette_full_result[\"languageDetections\"][0][\"language\"]\n",
    "    print truth,\" \", ld_result, rosette_result\n",
    "\n",
    "print \"truth ld ros\"\n",
    "print \"----- -- ---\"\n",
    "compare_languages(\"jenifer lawerence golden globe\",\"eng\")\n",
    "compare_languages(\"fail\",\"eng\")\n",
    "compare_languages(\"mens haircut\",\"eng\")\n",
    "compare_languages(\"magazine illustration\",\"eng\")\n",
    "compare_languages(\"Venta Programada\",\"eng\")"
   ]
  },
  {
   "cell_type": "markdown",
   "metadata": {},
   "source": [
    "##Tokenizing Text\n",
    "\n",
    "Tokenizing is a way to split down a string into tokens. What do you do with punctuation? What do you do with elision? You can *stem* words to chop off ends of words to try and normalize: *run* should be somehow equivalent to *running*. You can decompound words when languages such as German compound together words. "
   ]
  },
  {
   "cell_type": "markdown",
   "metadata": {},
   "source": [
    "###Alice in Wonderland\n",
    "\n",
    "We download Alice in Wonderland from the Gutenberg corpus. We look at the raw words, the tokenized words, and then the resulting vocabulary across the book.\n",
    "\n",
    "Note that the choice of tokenizer can give different results."
   ]
  },
  {
   "cell_type": "code",
   "execution_count": 24,
   "metadata": {
    "collapsed": false
   },
   "outputs": [],
   "source": []
  },
  {
   "cell_type": "code",
   "execution_count": 6,
   "metadata": {
    "collapsed": false
   },
   "outputs": [
    {
     "name": "stdout",
     "output_type": "stream",
     "text": [
      "[nltk_data] Downloading package gutenberg to /Users/david-\n",
      "[nltk_data]     personal/nltk_data...\n",
      "[nltk_data]   Package gutenberg is already up-to-date!\n"
     ]
    }
   ],
   "source": [
    "nltk.download(\"gutenberg\")\n",
    "from nltk.corpus import gutenberg\n",
    "alice_raw = gutenberg.raw(fileids=['carroll-alice.txt']).lower()\n",
    "alice_words = nltk.wordpunct_tokenize(alice_raw) #could also use word_tokenize(text)\n",
    "alice_vocab = set(alice_words)"
   ]
  },
  {
   "cell_type": "code",
   "execution_count": 7,
   "metadata": {
    "collapsed": false
   },
   "outputs": [
    {
     "name": "stdout",
     "output_type": "stream",
     "text": [
      "[u'[', u'alice', u\"'\", u's', u'adventures', u'in', u'wonderland', u'by', u'lewis', u'carroll', u'1865', u']', u'chapter', u'i', u'.', u'down', u'the', u'rabbit', u'-', u'hole', u'alice', u'was', u'beginning', u'to', u'get', u'very', u'tired', u'of', u'sitting', u'by', u'her', u'sister', u'on', u'the', u'bank', u',', u'and', u'of', u'having', u'nothing', u'to', u'do', u':', u'once', u'or', u'twice', u'she', u'had', u'peeped', u'into', u'the', u'book', u'her', u'sister', u'was', u'reading', u',', u'but', u'it', u'had', u'no', u'pictures', u'or', u'conversations', u'in', u'it', u',', u\"'\", u'and', u'what', u'is', u'the', u'use', u'of', u'a', u'book', u\",'\", u'thought', u'alice', u\"'\", u'without', u'pictures', u'or', u'conversation', u\"?'\", u'so', u'she', u'was', u'considering', u'in', u'her', u'own', u'mind', u'(', u'as', u'well', u'as', u'she', u'could', u',']\n"
     ]
    }
   ],
   "source": [
    "print alice_words[:100]"
   ]
  },
  {
   "cell_type": "code",
   "execution_count": 8,
   "metadata": {
    "collapsed": false
   },
   "outputs": [
    {
     "name": "stdout",
     "output_type": "stream",
     "text": [
      "Raw:  144395\n",
      "Words:  34110\n",
      "Vacabulary:  2636\n"
     ]
    }
   ],
   "source": [
    "print \"Raw: \", len(alice_raw)\n",
    "print \"Words: \", len(alice_words)\n",
    "print \"Vacabulary: \", len(alice_vocab)"
   ]
  },
  {
   "cell_type": "code",
   "execution_count": 9,
   "metadata": {
    "collapsed": false
   },
   "outputs": [
    {
     "name": "stdout",
     "output_type": "stream",
     "text": [
      "set([u'secondly', u'pardon', u'saves', u'knelt', u'four', u'sleep', u'hanging', u'ringlets', u'oldest', u'hate', u'assembled', u'forget', u'whose', u'lory', u'paris', u'blacking', u'presents', u'under', u'inwards', u'sorry', u'worth', u'music', u'rise', u'every', u'jack', u'seals', u'fireplace', u'school', u'prize', u'wooden', u'pinch', u'persisted', u'favoured', u'leaders', u'tired', u'feathers', u'elegant', u'likely', u'louder', u'machines', u'shining', u'even', u'meekly', u'hide', u'pace', u'solemn', u'thunder', u'lizard', u'poison', u'above', u'conduct', u'new', u'ever', u'told', u'join', u'never', u'wrapping', u'here', u'met', u'protection', u'hers', u'cardboard', u'shriek', u'dry', u'daughter', u'leaves', u'changed', u'swam', u'barrowful', u'smoke', u'changes', u'ventured', u'golden', u'ground', u'explained', u'angrily', u'feelings', u'brought', u'patience', u'moral', u'guests', u'drowned', u'punching', u'spoke', u'would', u'arms', u'insult', u'overhead', u'therefore', u'leant', u'fainting', u'tell', u'breathe', u'peeping', u'evening', u'hurt', u'grief', u'glass', u'excellent', u'adjourn', u'hole', u'hold', u'must', u'me', u'word', u'room', u'work', u'dodo', u'worm', u'roof', u'obstacle', u'elbow', u'my', u'shook', u'rosetree', u'quiver', u'serpent', u'give', u'unjust', u'flung', u'frighten', u'want', u'extraordinary', u'keep', u'returned', u'end', u'turn', u'complaining', u'agony', u'returning', u'how', u'hot', u'answer', u'truthful', u'poker', u'flustered', u'mouths', u'lad', u'ladder', u'after', u'wrong', u'jumping', u'lay', u'curiosity', u'law', u'lap', u'attempt', u'childhood', u'wink', u'wriggling', u'green', u'aloud', u'order', u'wind', u'wine', u'executed', u'dreamed', u'over', u'london', u'mabel', u'before', u'chatte', u'fit', u'somewhere', u'lefthand', u'fix', u',', u'writing', u'better', u'fig', u'glanced', u'croquet', u'weeks', u'overcome', u'then', u'them', u'slate', u'safe', u'break', u'caterpillar', u'they', u'interrupt', u'one', u'bank', u'pegs', u'grammar', u'meat', u'alternately', u'leading', u'herald', u'eleventh', u'roast', u'each', u'went', u'side', u'bone', u'mean', u'calmly', u'telescope', u'series', u'dodged', u'vote', u'taught', u'forgot', u'flock', u'sounds', u'reminding', u'velvet', u'tales', u'sighing', u'forty', u'fellows', u'content', u're', u'laid', u'got', u'size', u'splashed', u'stamping', u'turning', u'given', u'free', u'uglification', u'whereupon', u'mallets', u'wanted', u'telescopes', u'enormous', u'ate', u'shelves', u'writhing', u'cackled', u'messages', u'days', u'pence', u'hopeless', u'moving', u'footsteps', u'bite', u'enjoy', u'already', u'dunce', u'curiouser', u'encouraging', u'hearing', u'wash', u'another', u'wasn', u'thoughtfully', u'thick', u'awfully', u'xii', u'top', u'girls', u'airs', u'master', u'too', u'wildly', u'legs', u'bitter', u'dogs', u'listen', u'consented', u'ceiling', u'solemnly', u'took', u'positively', u'character', u'begins', u'distance', u'coward', u'tree', u'second', u'seated', u'shower', u'matter', u'splendidly', u'exclaimed', u'flame', u'friend', u'askance', u'feeling', u'chrysalis', u'ran', u'shyly', u'modern', u'mind', u'mine', u'sorrow', u'talking', u'rat', u'manner', u'seen', u'seem', u'tells', u'eels', u'strength', u'thoroughly', u'-', u'eagerly', u'subjects', u'doors', u'laughed', u'gravy', u'nobody', u'though', u'regular', u'mouth', u'plenty', u'grave', u'zealand', u'don', u'alarm', u'm', u'dog', u'ridiculous', u'sun', u'notion', u'came', u'decidedly', u'saying', u'currants', u'pardoned', u'pope', u'lewis', u'queen', u'sage', u'ending', u'attempts', u'queer', u'earth', u'toast', u'busy', u'spite', u'explain', u'folded', u'sugar', u'deepest', u'disgust', u'do', u'cartwheels', u'squeaking', u'watch', u'coast', u'frowning', u'shutting', u'cushion', u'altogether', u'frying', u'nasty', u'learned', u'bat', u'nicely', u'anxiously', u'shape', u'licking', u'twice', u'bad', u'softly', u'explanations', u'steam', u'ears', u'blew', u'fair', u'doze', u'depends', u'decided', u'flashed', u'cattle', u'miserable', u'mournfully', u'best', u'subject', u'pebbles', u'said', u'away', u'unable', u'finger', u'sorts', u'claws', u'crossly', u'interrupting', u'terms', u'confusion', u'weak', u'however', u'camomile', u'twinkling', u'drew', u'picking', u'improve', u'pity', u'received', u'accident', u'country', u'ill', u'cup', u'adventures', u'edgar', u'players', u'games', u'treacle', u'argue', u'asked', u'tone', u'appeared', u'royal', u'lullaby', u'height', u'wider', u'beheaded', u'speak', u'shouting', u'tarts', u'three', u'been', u'.', u'chimneys', u'much', u'axis', u'interest', u'schoolroom', u'expected', u'?\"', u'lovely', u'threw', u'natured', u'life', u'wags', u'mushroom', u'twinkled', u'grunt', u'uncommon', u'child', u'catch', u'doth', u'teapot', u'has', u'lessen', u'tastes', u'air', u'ugly', u'near', u'neat', u'viii', u'stopping', u'voice', u'mistake', u'remembering', u'ix', u'seven', u'fourteenth', u'played', u'is', u'it', u'iv', u'ii', u'gloomily', u'clinging', u'in', u'mouse', u'if', u'grown', u'growl', u'severity', u'things', u'make', u'linked', u'forehead', u'unfortunate', u'vegetable', u'plates', u'several', u'couple', u'bells', u'fairly', u'\"\\'', u'tops', u'hand', u'delight', u'marched', u'dozing', u'opportunity', u'thoughts', u'kid', u'butter', u'hearth', u'kept', u'matters', u'settled', u'humble', u'rome', u'humbly', u'impertinent', u'hearts', u'the', u'yours', u'left', u'just', u'sentence', u'sleepy', u'atheling', u'verses', u'farther', u'yes', u'yer', u'yet', u'adding', u'spectacles', u\"!')\", u'hjckrrh', u'cherry', u'had', u'grumbled', u'belongs', u'easy', u'prison', u'save', u'hat', u'gave', u'boxed', u'mayn', u'possible', u'possibly', u'dreamy', u'flamingoes', u'afore', u'judge', u'burnt', u'shoulder', u'sorrows', u'appearing', u'uncivil', u'seaside', u'alice', u'quadrille', u'officer', u'night', u'hung', u'towards', u'right', u'old', u'deal', u'people', u'sends', u'crown', u'somehow', u'dead', u'clubs', u'escape', u'dear', u'straightening', u'bore', u'goldfish', u'creep', u'confusing', u'denies', u'for', u'bottom', u'purple', u'ear', u'everything', u'asking', u'shakespeare', u'denied', u'serpents', u'beating', u'christmas', u'pinched', u'knew', u'burn', u'disappeared', u'lamps', u'losing', u'bowing', u'permitted', u'takes', u'wept', u'theirs', u'newspapers', u'choke', u'o', u'dinner', u'despair', u'sluggard', u'raised', u'sob', u'wasting', u'puzzle', u'delighted', u'cauldron', u'son', u'stop', u'respectable', u'bats', u'balanced', u'frightened', u'cleared', u'crowd', u'wag', u'sneezing', u'fight', u'derision', u'morcar', u'call', u'was', u'happy', u'fork', u'head', u'waistcoat', u'form', u'offer', u'attempted', u'becoming', u'back', u'failure', u'hear', u'heap', u'boon', u'removed', u'true', u'flavour', u'rippling', u'inside', u'until', u'note', u'scream', u'unusually', u'temper', u'proud', u'proved', u'sticks', u'screaming', u'fury', u'toss', u\"';\", u'muscular', u'drive', u\"''\", u'howling', u'guessed', u'\\'\"', u'curious', u'accounting', u\"',\", u\"')\", u'floor', u'generally', u'handed', u'tis', u'beheading', u'setting', u'holding', u'tie', u'vanished', u'shrink', u'saucepans', u'picture', u'ferrets', u'pronounced', u'surprise', u'ointment', u'welcome', u'skirt', u'fell', u'ridges', u'inkstand', u'unlocking', u'died', u'puss', u'spades', u'longer', u'together', u'beds', u'longed', u'contemptuous', u'time', u'push', u'treading', u'managed', u'chain', u'whoever', u'dance', u'untwist', u'rudeness', u'invent', u'crocodile', u'mile', u'chair', u'milk', u'row', u\"?',\", u'certainly', u'father', u'passage', u'answered', u'unpleasant', u'glad', u'terror', u'circumstances', u'jogged', u'fancied', u'brown', u'made', u'keeping', u'hatter', u'choice', u'stays', u'cook', u'ma', u'trouble', u'exact', u'feeble', u'minute', u'cool', u'sighed', u'presented', u'did', u'turns', u'dig', u'brother', u'leave', u'settle', u'quick', u'teaching', u'scaly', u'round', u'prevent', u'brave', u'says', u'tougher', u'sigh', u'sign', u'cost', u'dried', u'eating', u'helpless', u'irritated', u'appear', u'axes', u'lazily', u'goes', u'reply', u'falling', u'geography', u'filled', u'growls', u'jury', u'partners', u'honour', u'v', u'french', u'water', u'twentieth', u'yards', u'hoarse', u'[', u'change', u'wait', u'box', u'sending', u'impatiently', u'lazy', u'wherever', u'gryphon', u'trial', u'jaw', u'usually', u'shifting', u'quarrel', u'useful', u'morals', u'extra', u'hopeful', u'merely', u'marked', u'inquisitively', u'puffed', u'swallowed', u'stingy', u'everybody', u'driest', u'angry', u'visit', u'only', u'france', u'live', u'wood', u'somersault', u'wondering', u'teeth', u'today', u'loving', u'chapter', u'entrance', u'sharing', u'afford', u'flying', u'teases', u'ignorant', u'oop', u'fly', u'deserved', u'pretend', u'longitude', u'cat', u'soup', u'sour', u'can', u'growing', u'making', u'dispute', u'laughter', u'slightest', u'heart', u'crazy', u'frontispiece', u'nursing', u'figure', u'carroll', u'confused', u'paused', u'heard', u'chin', u'dropped', u'counting', u'stole', u'evidently', u'pink', u\",'\", u',\"', u'winter', u'fortunately', u'buttered', u'watching', u'pine', u',)', u'write', u'till', u'fourth', u'stigand', u'condemn', u'may', u'dive', u'spot', u'crashed', u'birthday', u'tipped', u'mad', u'?)', u\"?'\", u'such', u'grow', u'man', u'scrambling', u'classics', u'natural', u'remember', u'succeeded', u'whenever', u'maybe', u'daisies', u'tale', u'suet', u'so', u'crept', u'offend', u'arrived', u\".--'\", u'pulled', u'talk', u'recognised', u'shoes', u'seeing', u'indeed', u'pointed', u'canary', u'years', u'course', u'quarrelled', u'shake', u'argued', u'cold', u'still', u'owl', u'birds', u'limbs', u'yawning', u'thank', u'curly', u'interesting', u'curls', u'civil', u'window', u'dreadfully', u'thump', u'ours', u'into', u'happened', u'roses', u'lonely', u'tucked', u'conversations', u'sooner', u'bound', u'underneath', u'tails', u'soo', u'half', u'not', u'now', u'hall', u'nor', u'down', u'execute', u'shouted', u'name', u'chuckled', u'corners', u'drop', u'rock', u'scolded', u'entirely', u'creature', u'em', u'eh', u'bursting', u'beloved', u'hurried', u'goose', u'catching', u'begun', u'year', u'girl', u'worried', u'irons', u'living', u'canvas', u'opened', u'concert', u'abide', u'hastily', u'looking', u'seriously', u'stupid', u'housemaid', u'juror', u'attended', u'state', u'cart', u'quite', u'bringing', u'besides', u'care', u'advance', u'couldn', u\".')\", u'honest', u'thing', u'place', u'invitation', u'think', u'waited', u'first', u'sprawling', u'arithmetic', u'xi', u'beauti', u'spoken', u'yourself', u'merrily', u'fast', u'directly', u'carry', u'impossible', u'ring', u'open', u'tomorrow', u'cheerfully', u'sheep', u'little', u'checked', u'silent', u'arch', u'caught', u'waist', u'trampled', u'shiver', u'white', u'speaking', u'eyes', u'way', u'mostly', u'that', u'snatch', u'alas', u'eyed', u'editions', u'flowers', u'than', u'wide', u'apples', u'venture', u'were', u'cards', u'wandering', u'and', u'addressing', u'tasted', u'remained', u'ann', u'turned', u'argument', u'voices', u'say', u'anger', u'themselves', u'saw', u'any', u'sat', u'snorting', u'tulip', u'reasonable', u'downwards', u'wandered', u'emphasis', u'hookah', u'take', u'haste', u'encouraged', u'butterfly', u'begin', u'sure', u'altered', u'opposite', u'neatly', u'clearer', u'zigzag', u'printed', u'pair', u'knee', u'educations', u']', u'queens', u'pencils', u'fills', u'considered', u'egg', u'later', u'steady', u'hungry', u'playing', u'managing', u'joys', u'stockings', u'hedgehog', u'salt', u'trembled', u'.]', u'walking', u'show', u'cheap', u'bright', u'corner', u'fifth', u'curled', u'busily', u'nice', u'nodded', u'histories', u'coaxing', u'tears', u'going', u'shrill', u'toffee', u'get', u'between', u'whiles', u'unimportant', u'cannot', u'nearly', u'hedge', u'resource', u'seldom', u'morning', u'miles', u'executes', u'finishing', u'where', u'declared', u'crumbs', u'burst', u'pennyworth', u'fanned', u'asleep', u'wonder', u'ways', u'jumped', u'pencil', u\")--'\", u'label', u'teacup', u'behind', u'hiss', u'cautiously', u'reading', u'across', u'caucus', u'whispered', u'notice', u'tut', u'queerest', u'killing', u'blame', u'singers', u'come', u'croqueted', u'dates', u'repeating', u\"'--\", u'cakes', u'many', u'stupidest', u'quiet', u'nile', u'blasts', u'personal', u's', u'loudly', u'disappointment', u'railway', u'expression', u'comes', u'riddle', u'among', u'loveliest', u'afterwards', u'lacie', u'pot', u'pop', u'accusation', u'stretched', u'learning', u'constant', u'precious', u'custody', u'turkey', u'uglify', u'cares', u'suppressed', u'mark', u'breath', u'punished', u'judging', u'hardly', u'mary', u'engine', u'direction', u'thousand', u'flurry', u'wake', u'evidence', u'those', u'case', u'myself', u'folding', u'turtles', u'these', u'sobbed', u'warning', u'slippery', u'antipathies', u'promising', u'squeezed', u'shrieks', u'invited', u'promised', u'rubbing', u'engaged', u'couples', u'middle', u'sudden', u'heels', u'worry', u'different', u'pat', u'paw', u'edwin', u'same', u'speech', u'triumphantly', u'pan', u'week', u'finish', u'nest', u'persons', u'running', u'changing', u'passing', u'complained', u'traps', u'charges', u'no', u'roughly', u'without', u'grinned', u'bottle', u'fidgeted', u'summer', u'being', u'when', u'rest', u'violent', u'growled', u'kill', u'touch', u'exclamation', u'speed', u'sulky', u'blow', u'death', u'dipped', u'hint', u'thinking', u'rose', u'seems', u'except', u'thimble', u'struck', u'bread', u'real', u'around', u'kills', u'desperately', u'read', u'lowing', u'dark', u'politely', u'world', u'earls', u'execution', u'lady', u\"('\", u'dare', u'tremulous', u'pounds', u'draggled', u'sternly', u't', u'downward', u'passionate', u'reduced', u'twelve', u'shillings', u'lobster', u'respect', u'mustard', u'moon', u'expressing', u'moderate', u'knife', u'considering', u'felt', u'arrow', u'business', u'broken', u'throw', u'on', u'subdued', u'oh', u'of', u');', u'violence', u'shrimp', u'chop', u'boldly', u'journey', u'stand', u'knave', u'act', u'mixed', u'ou', u'or', u'imitated', u'quietly', u'appealed', u'burning', u'trot', u'spreading', u'lifted', u'legged', u'rising', u'dreaming', u'england', u'happening', u'shrinking', u'your', u'her', u'there', u'cats', u'low', u'jaws', u'attends', u'mercia', u'hare', u'mischief', u'jug', u'enough', u'mice', u'trying', u'with', u'feather', u'cheated', u'rush', u'waste', u'arranged', u'tiptoe', u'tones', u'conqueror', u'grass', u'agree', u'gone', u'fright', u'taste', u'ah', u'moved', u'deep', u'fellow', u'as', u'bawled', u'at', u'watched', u'horse', u'tremble', u'again', u'rubbed', u'idiot', u'field', u'remarks', u'you', u'puppy', u'poor', u'oneself', u'inquired', u'uncorked', u'remarked', u'whiskers', u'whistling', u'waving', u'brandy', u'important', u'brass', u'sneeze', u'pool', u'applause', u'wife', u'sobbing', u'tricks', u'sharks', u'having', u'once', u'strings', u'growling', u'all', u'snout', u'consider', u'pointing', u'caused', u'month', u'dish', u'follow', u'faster', u'children', u'whiting', u'conger', u'dreadful', u'ravens', u'remarkable', u'hunting', u'encourage', u'laughing', u'to', u'tail', u'wants', u'crimson', u'smile', u'sound', u'woman', u'worse', u'sitting', u'very', u'fat', u'fan', u'minded', u'hatching', u'fall', u'soles', u'washing', u'--', u'list', u'joined', u'large', u'sang', u'sand', u'small', u'fashion', u'familiarly', u'quicker', u'rats', u'ten', u'tea', u'past', u'rate', u'pass', u'further', u'creatures', u'grinning', u'what', u'stood', u'darkness', u'clock', u'deeply', u'stool', u'stoop', u'northumbria', u'nurse', u'hasn', u'full', u'loose', u'answers', u'hours', u'shouldn', u'affectionately', u'directions', u'handwriting', u'search', u'tortoise', u'difficulty', u'stretching', u')--', u'memorandum', u'soldier', u'murdering', u'narrow', u'followed', u'family', u'suddenly', u'clapping', u'vii', u'usurpation', u'ask', u'toys', u'thatched', u'readily', u'eye', u'proceed', u'injure', u'faint', u'two', u'\"!\\'', u'splash', u'taken', u'weren', u'more', u'flat', u'wretched', u'door', u'knows', u'company', u'stick', u'broke', u'particular', u'known', u'hurry', u'producing', u'?--', u'cunning', u'gazing', u'none', u'hour', u'sulkily', u'offended', u'remain', u'pressing', u'nine', u'learn', u'knocked', u'furrows', u'history', u'beautiful', u'shark', u'feebly', u'lives', u'gravely', u'rustled', u'share', u'sense', u'sharp', u'garden', u'!', u'needs', u'court', u'advantage', u'rather', u'comfort', u'magpie', u'maps', u'occasionally', u'footman', u'canterbury', u'skurried', u'tried', u'rude', u'suppose', u'advice', u'purring', u'coming', u'gardeners', u'pleaded', u'hedgehogs', u'a', u'short', u'crowded', u'loud', u'ootiful', u'eats', u'perhaps', u'shore', u'shade', u'banks', u'pleasure', u'dream', u'fender', u'replied', u'help', u'incessantly', u'soon', u'held', u'paper', u'through', u'existence', u'smiling', u'its', u'roots', u'fanning', u'rapidly', u'forwards', u'pray', u'buttercup', u'actually', u'late', u'absence', u'parts', u'speaker', u'might', u'arguments', u'wouldn', u'good', u'somebody', u'unrolled', u'ye', u'noticing', u',\"\\'', u'foot', u'executions', u'mystery', u'easily', u'always', u'rattle', u'fluttered', u'someone', u'stopped', u'die', u'found', u'fairy', u'pleasanter', u'heavy', u'harm', u'begged', u'upstairs', u'house', u'fish', u'hard', u'idea', u'accidentally', u'duchess', u'scratching', u'really', u'anxious', u'dears', u'flower', u'missed', u'wondered', u'rearing', u'since', u'pigeon', u'trusts', u'snappishly', u'pun', u'crouched', u'upon', u'guess', u'pleasant', u'houses', u'reason', u'imagine', u'put', u'rises', u'beginning', u'thrown', u'pairs', u'curtsey', u'terribly', u'expecting', u'w', u'daisy', u'fallen', u'porpoise', u'slipped', u'feel', u'dinn', u'knocking', u'number', u'fancy', u'feet', u'done', u'shilling', u'miss', u'story', u'\"', u'heads', u'twenty', u'least', u'paint', u'station', u'passed', u'hundred', u'recovered', u'bowed', u'relieved', u'uncommonly', u'immediate', u'procession', u'luckily', u'part', u'believe', u'stairs', u'king', u'kind', u'grew', u'kindly', u'bag', u'double', u'grey', u'spirited', u'i', u'stalk', u'?\"\\'', u'treated', u'declare', u'executioner', u'picked', u'dainties', u'livery', u'murder', u'fading', u'sell', u'lie', u'dancing', u'commotion', u'officers', u'lit', u'swallowing', u'breeze', u'finding', u'relief', u'play', u'added', u'reality', u'eggs', u'english', u'reach', u'most', u'plan', u'eaten', u'nothing', u'extremely', u'oyster', u'mineral', u'clear', u'sometimes', u'clean', u'daresay', u'lying', u'ugh', u'languid', u'fond', u'idiotic', u'carefully', u'croqueting', u'fine', u'find', u'faces', u'rocket', u'grazed', u'justice', u'nervous', u'unwillingly', u'unhappy', u'pretty', u'circle', u'shepherd', u'his', u'hit', u'meanwhile', u'trees', u'whistle', u'courage', u'hid', u'pretending', u'shared', u'him', u'chimney', u'distraction', u'cry', u'doubled', u'gloves', u'common', u'x', u'engraved', u'nibbled', u'wrote', u'set', u'signify', u'throwing', u'see', u'hoarsely', u'are', u'sea', u'close', u'bark', u'arm', u'feared', u'youth', u'learnt', u'lastly', u'pictures', u'wow', u'please', u'won', u'various', u'guilt', u'arrum', u'kneel', u'meal', u'knowing', u'latin', u'timidly', u'vanishing', u'both', u'c', u'last', u'riddles', u'panther', u'dismay', u'became', u'forgotten', u'whole', u'finds', u'tittered', u'sentenced', u'liked', u'):', u'majesty', u'drunk', u'simple', u'sweet', u'manners', u'whatever', u'hollow', u'alone', u'unfolded', u'simply', u'),', u').', u'supple', u'along', u'patiently', u'acceptance', u'verse', u'whom', u'secret', u'dropping', u'collected', u'meeting', u'empty', u'resting', u'lived', u'gay', u'boy', u'fire', u'ada', u'remark', u'else', u'1865', u'!\"?\\'', u'mournful', u'furrow', u'stolen', u'fur', u'look', u'raw', u'solid', u'straight', u'bill', u'rope', u'forgetting', u'while', u'pressed', u'leaning', u'fun', u'ful', u'pack', u'swim', u'hoping', u'violently', u'itself', u'beautifully', u'ready', u'kings', u'funny', u'righthand', u'choking', u'grant', u'belong', u'shorter', u'rules', u'grand', u'advise', u'shan', u'used', u'snail', u'yesterday', u'desks', u'patriotic', u'moment', u'flown', u'cucumber', u'purpose', u'uneasily', u'timid', u'lower', u'older', u'person', u'edge', u'grins', u'clasped', u'lobsters', u'listening', u'morsel', u'rumbling', u'questions', u'using', u'love', u'cut', u'cur', u'also', u'hated', u'kissed', u'vague', u'eager', u'grin', u'crying', u'remaining', u'surprised', u'tillie', u'australia', u'march', u'showing', u'pattering', u'game', u'entangled', u'bit', u'wings', u'like', u'knock', u'd', u'shaped', u'follows', u'chorus', u'eel', u'provoking', u'foolish', u'walrus', u'often', u'obliged', u'lodging', u'some', u'remarking', u'understood', u'lips', u'marmalade', u'hurriedly', u'sight', u'wonderland', u'candle', u'capering', u'pale', u'ourselves', u'saucer', u'savage', u'scale', u'twinkle', u'pet', u'shall', u'quickly', u'lark', u'either', u'be', u'run', u'remembered', u'salmon', u'refused', u'nowhere', u'ache', u'by', u'comfits', u'bristling', u'anything', u'wore', u'prove', u'straightened', u'needn', u'naturedly', u'shiny', u'bleeds', u'silence', u'undoing', u'letter', u'conquest', u'within', u'nonsense', u'jurymen', u'piteous', u'frames', u'lesson', u'.)', u'signifies', u'sad', u'.\"', u'question', u'long', u\".'\", u'consultation', u'prettier', u'suit', u':', u'himself', u'an', u'inches', u'memory', u'hoped', u'alive', u'atom', u'upright', u'line', u'dull', u'raising', u'peeped', u'directed', u'hush', u'up', u'us', u'accustomed', u'proves', u'called', u'yelled', u'ordered', u'roared', u'doesn', u'skimming', u'graceful', u'denying', u'puzzling', u'backs', u'occasional', u'ornamented', u'nay', u'mock', u'tart', u'brushing', u'draw', u'energetic', u'favourite', u'faintly', u'occurred', u'william', u'meaning', u'smiled', u'fishes', u'song', u'sides', u'ago', u'land', u'e', u'age', u'walked', u'annoyed', u'impatient', u'neighbouring', u'fitted', u'far', u'sounded', u'prizes', u'rabbit', u'splashing', u'sixpence', u'go', u'cupboards', u'seemed', u'peering', u'young', u'send', u'nose', u'pleasing', u'sent', u'retire', u'presently', u'flinging', u'outside', u'panting', u'squeaked', u'spoon', u'putting', u'rattling', u'telling', u'drinking', u'continued', u'severely', u'magic', u'respectful', u'stiff', u'shock', u'try', u'tunnel', u'race', u'verdict', u'insolence', u'concluded', u'smaller', u'uncomfortably', u'sensation', u'boots', u'uncomfortable', u'odd', u'diamonds', u'giving', u'squeeze', u'waiting', u'experiment', u'capital', u';', u'bird', u'poky', u'body', u'lessons', u'melancholy', u'led', u'chose', u'upsetting', u'beasts', u'fifteenth', u'believed', u'let', u'sink', u'others', u'slates', u'sing', u'invented', u'fifteen', u'settling', u'vinegar', u'great', u'didn', u'uneasy', u'involved', u'larger', u'leaving', u'simpleton', u'opinion', u'climb', u'behead', u'makes', u'wig', u'examining', u'apple', u'win', u'disobey', u'manage', u'dormouse', u'addressed', u'names', u'duck', u'doubtfully', u'nibbling', u'singing', u'standing', u'use', u'cheered', u'from', u'archbishop', u'processions', u'frog', u'next', u'few', u'doubt', u'crab', u'doubling', u'eaglet', u'cheeks', u'sort', u'throne', u'clever', u'rich', u'started', u'inclined', u'about', u'carrying', u'labelled', u'sharply', u'baby', u'iii', u'annoy', u'account', u'balls', u'animals', u'panted', u'locks', u'this', u':--', u'shrieked', u'pour', u'curtseying', u'arches', u'anywhere', u'crossed', u'thin', u'meet', u'fetch', u'bend', u'bent', u'reeds', u'plate', u'pocket', u'lock', u'dripping', u'pieces', u'high', u'pulling', u'something', u'bones', u'wonderful', u'paws', u'onions', u'contempt', u'sir', u'curving', u'sit', u'trumpet', u'six', u'delay', u'courtiers', u'animal', u'instead', u'furiously', u'pretexts', u'farm', u'locked', u'waters', u'thunderstorm', u'tied', u'\\'\"--', u'pigs', u'men', u'minding', u'multiplication', u'terrier', u'patted', u'noises', u'lines', u'interrupted', u'trembling', u'chief', u'allow', u'crawling', u'furious', u'flapper', u'bathing', u'closely', u'reeling', u'move', u'\"--', u'produced', u'own', u'mentioned', u'll', u'banquet', u'orange', u'bye', u'crash', u'practice', u'muddle', u'flew', u'cutting', u'kiss', u'hands', u'front', u'day', u'toes', u'sneezed', u'delightful', u'tureen', u'truth', u'accounts', u'sneezes', u'shaking', u'normans', u'brush', u'footmen', u'doing', u'globe', u'books', u'sands', u'thirteen', u'measure', u'our', u'wander', u'witness', u'out', u'sobs', u\"'\", u'uglifying', u'hedges', u'hatters', u'eyelids', u'barley', u'cause', u'red', u'oblong', u'shut', u'undo', u'attending', u'completely', u'jurors', u'yard', u'gallons', u'could', u'rustling', u'times', u'conversation', u'length', u'trickling', u'sorrowful', u'clamour', u'plainly', u'blown', u'pitied', u'soothing', u'fits', u'howled', u'blows', u'undertone', u'ancient', u'sadly', u'ordering', u'vulgar', u'muttered', u'their', u'perfectly', u'sixteenth', u'explanation', u'exactly', u'branches', u'herself', u'haven', u'neck', u'bother', u'yawned', u'beg', u'submitted', u'bee', u'beautify', u'stupidly', u'listeners', u'result', u'thistle', u'tidy', u'gently', u'comfortable', u'tide', u'comfortably', u'have', u'throat', u'\"?\\'', u'wearily', u'clearly', u'afraid', u'dishes', u'bough', u'wits', u'able', u'instance', u'sh', u'which', u';--', u'blades', u'_i_', u'unless', u'centre', u'who', u'but', u'prisoner', u'alarmed', u'why', u'deny', u'):--', u'flappers', u'gather', u'upset', u'face', u'looked', u'absurd', u'guinea', u'painting', u'fact', u'affair', u'pleases', u'bring', u'planning', u'soldiers', u'fear', u'pleased', u'chanced', u'nearer', u'pause', u'knowledge', u'hadn', u'(', u'jar', u'should', u'buttons', u'smallest', u'fumbled', u'handsome', u'hope', u'indignant', u'meant', u'prosecute', u'listened', u'means', u'beat', u'beau', u'muttering', u'bear', u'ones', u'words', u'beak', u'doubtful', u'brain', u'shy', u'calling', u'stuff', u'she', u'rapped', u'fixed', u'shedding', u'!--', u'tossing', u'frame', u'we', u'indignantly', u'desperate', u'forepaws', u'closer', u'coils', u'pattern', u'drawling', u'written', u'difficulties', u'closed', u'neither', u'bed', u'opening', u'hurrying', u'key', u'puzzled', u'staring', u'shingle', u'taking', u'doorway', u'figures', u'swallow', u'otherwise', u'walk', u'laugh', u'table', u'.--', u'seaography', u'thanked', u'immense', u'poured', u'slowly', u'treat', u'certain', u'curtain', u'proposal', u'kitchen', u'remedies', u'shoulders', u'am', u'farmer', u'neighbour', u'latitude', u'finished', u'smoking', u'general', u'present', u'holiday', u'appearance', u'examine', u'will', u'riper', u'wild', u'advisable', u'instantly', u've', u'almost', u'vi', u'jelly', u'helped', u'against', u'partner', u'sits', u'tumbled', u'denial', u')', u'began', u'cross', u'brightened', u'strange', u'tumbling', u'digging', u'largest', u'party', u'glaring', u'twelfth', u'difficult', u'elbows', u'spell', u'drink', u'disagree', u'effect', u'beast', u'introduce', u'sisters', u'collar', u'cheshire', u'off', u'nevertheless', u'dinah', u'well', u'fighting', u'thought', u'--\"\\'', u'position', u'raving', u'drawing', u'usual', u'lest', u'taller', u'barking', u'cried', u'less', u'ambition', u'fancying', u'cries', u'distant', u'parchment', u'tight', u'sky', u'reasons', u'book', u'adoption', u'wet', u'earnestly', u'ought', u'kick', u'raven', u'ledge', u'whispers', u'five', u'know', u'knot', u'desk', u'immediately', u'audibly', u'flamingo', u'ahem', u'lost', u'sizes', u'crawled', u'lose', u'become', u'works', u'soft', u'likes', u'because', u'authority', u'hair', u'choosing', u'proper', u'home', u'happens', u'est', u'esq', u'avoid', u'kettle', u'leap', u'does', u'passion', u'saucepan', u'belt', u'chains', u'?', u'pepper', u'noise', u'reaching', u'contradicted', u'isn', u'choked', u'crust', u'trials', u'gained', u'sister', u'ashamed', u'carried', u'getting', u'tray', u'carrier', u'tongue', u'introduced', u'swimming', u'turtle', u'!\"', u'letters', u\"!'\", u'screamed', u'guard', u'promise', u'tiny', u'quarrelling', u'custard', u'knuckles', u'ridge', u'rushed', u'rightly', u'*', u'noticed', u'spread', u'startled', u'powdered', u'fountains', u'repeated', u'hm', u'contemptuously', u'highest', u'.\"\\'', u'eat', u'he', u'hearthrug', u'wise', u'places', u'!\"\\'', u'whether', u'wish', u'scroll', u'variations', u'signed', u'placed', u'below', u'woke', u'cake', u'piece', u'minutes', u'stirring', u'diligently', u'rabbits', u'whisper', u'pie', u'pig', u'twist', u'tempered', u'--(', u'ink', u\"--'\", u'trotting', u'happen', u'--\"', u'dressed', u'lately', u'other', u'branch', u'suppress', u'hippopotamus', u'conclusion', u'giddy', u'repeat', u'star', u'muchness', u'stay', u'refreshments', u'chance', u'teacups', u'friends', u'grunted', u'--]', u'yelp', u'tinkling', u'lasted', u'rule', u'pictured', u'extras', u'elsie', u'understand', u'trims', u'baked'])\n"
     ]
    }
   ],
   "source": [
    "print alice_vocab"
   ]
  },
  {
   "cell_type": "code",
   "execution_count": 19,
   "metadata": {
    "collapsed": false
   },
   "outputs": [
    {
     "name": "stdout",
     "output_type": "stream",
     "text": [
      "   ,    '  the  and    .   to    a   it  she    i   of said  you alice   ,'   in  was that   !'   as \n",
      "1993 1731 1642  872  764  729  632  595  553  543  514  462  411  398  397  369  357  315  278  263 \n"
     ]
    }
   ],
   "source": [
    "from nltk.probability import FreqDist\n",
    "fdist1 = FreqDist(alice_words)\n",
    "fdist1.tabulate(20) #the top 20 most frequently seen words in this corpus\n"
   ]
  },
  {
   "cell_type": "code",
   "execution_count": 11,
   "metadata": {
    "collapsed": false
   },
   "outputs": [
    {
     "data": {
      "text/plain": [
       "51"
      ]
     },
     "execution_count": 11,
     "metadata": {},
     "output_type": "execute_result"
    }
   ],
   "source": [
    "fdist1['rabbit']"
   ]
  },
  {
   "cell_type": "code",
   "execution_count": 12,
   "metadata": {
    "collapsed": false
   },
   "outputs": [
    {
     "name": "stdout",
     "output_type": "stream",
     "text": [
      "Populating the interactive namespace from numpy and matplotlib\n"
     ]
    },
    {
     "data": {
      "image/png": "[encoded data removed]",
      "text/plain": [
       "<matplotlib.figure.Figure at 0x112c3be90>"
      ]
     },
     "metadata": {},
     "output_type": "display_data"
    }
   ],
   "source": [
    "%pylab inline \n",
    "fdist1.plot(40,cumulative=True)"
   ]
  },
  {
   "cell_type": "code",
   "execution_count": 13,
   "metadata": {
    "collapsed": false
   },
   "outputs": [
    {
     "data": {
      "text/plain": [
       "144"
      ]
     },
     "execution_count": 13,
     "metadata": {},
     "output_type": "execute_result"
    }
   ],
   "source": [
    "fdist1['very']"
   ]
  },
  {
   "cell_type": "code",
   "execution_count": 14,
   "metadata": {
    "collapsed": false
   },
   "outputs": [
    {
     "name": "stdout",
     "output_type": "stream",
     "text": [
      "Populating the interactive namespace from numpy and matplotlib\n"
     ]
    },
    {
     "data": {
      "image/png": "[encoded data removed]",
      "text/plain": [
       "<matplotlib.figure.Figure at 0x112ea8150>"
      ]
     },
     "metadata": {},
     "output_type": "display_data"
    }
   ],
   "source": [
    "%pylab inline\n",
    "fdist1.plot(200,cumulative=True)"
   ]
  },
  {
   "cell_type": "code",
   "execution_count": 15,
   "metadata": {
    "collapsed": false
   },
   "outputs": [
    {
     "name": "stdout",
     "output_type": "stream",
     "text": [
      "51 \there\n",
      "58 \tmy\n",
      "51 \tmuch\n",
      "52 \tjust\n",
      "56 \thatter\n",
      "55 \tgryphon\n",
      "55 \tquite\n",
      "53 \tthink\n",
      "51 \tfirst\n",
      "56 \tway\n",
      "51 \tsay\n",
      "57 \tits\n",
      "54 \tare\n",
      "51 \tsome\n",
      "59 \tby\n",
      "57 \tan\n",
      "56 \tmock\n",
      "51 \trabbit\n",
      "57 \tll\n",
      "52 \ttheir\n",
      "58 \tbegan\n",
      "59 \tturtle\n",
      "51 \t--'\n"
     ]
    }
   ],
   "source": [
    "#Look at words in teh middle-ish\n",
    "for token in fdist1:\n",
    "    if fdist1[token] < 60 and fdist1[token] > 50:\n",
    "        print fdist1[token], '\\t', token "
   ]
  },
  {
   "cell_type": "code",
   "execution_count": 20,
   "metadata": {
    "collapsed": false
   },
   "outputs": [],
   "source": [
    "alice_bigrams = nltk.bigrams(alice_words)"
   ]
  },
  {
   "cell_type": "code",
   "execution_count": 21,
   "metadata": {
    "collapsed": false
   },
   "outputs": [
    {
     "name": "stdout",
     "output_type": "stream",
     "text": [
      "23 (u'of', u'course')\n",
      "22 (u'white', u'rabbit')\n",
      "22 (u'one', u'of')\n",
      "48 (u'went', u'on')\n",
      "17 (u'of', u'them')\n",
      "115 (u'said', u'alice')\n",
      "56 (u'mock', u'turtle')\n",
      "21 (u'as', u'well')\n",
      "19 (u'at', u'last')\n",
      "18 (u'this', u'time')\n",
      "31 (u'march', u'hare')\n",
      "28 (u'did', u'not')\n",
      "21 (u'could', u'not')\n",
      "37 (u'out', u'of')\n",
      "18 (u'had', u'been')\n",
      "19 (u'they', u'were')\n",
      "26 (u'thought', u'alice')\n",
      "17 (u'of', u'her')\n",
      "18 (u'at', u'once')\n",
      "20 (u'her', u'head')\n",
      "17 (u'looked', u'at')\n",
      "25 (u'at', u'all')\n"
     ]
    }
   ],
   "source": [
    "fdist2 = nltk.FreqDist(alice_bigrams)\n",
    "stopwords = ['!','.',',',';',\"'\",\",'\",\"!'\",\"?'\",\"*\",\":\",'a','-','\"','$','the','and','i','was','my','a','for','be','to','is','it','she','you']\n",
    "for k,v in fdist2.items():\n",
    "    if k[0] not in stopwords and k[1] not in stopwords and v > 15:\n",
    "        print v,k"
   ]
  },
  {
   "cell_type": "markdown",
   "metadata": {},
   "source": [
    "##Text Object in NLTK"
   ]
  },
  {
   "cell_type": "code",
   "execution_count": 22,
   "metadata": {
    "collapsed": false
   },
   "outputs": [],
   "source": [
    "alice = nltk.Text(alice_words)"
   ]
  },
  {
   "cell_type": "code",
   "execution_count": 23,
   "metadata": {
    "collapsed": false
   },
   "outputs": [
    {
     "data": {
      "text/plain": [
       "59"
      ]
     },
     "execution_count": 23,
     "metadata": {},
     "output_type": "execute_result"
    }
   ],
   "source": [
    "alice.count('turtle')"
   ]
  },
  {
   "cell_type": "code",
   "execution_count": 24,
   "metadata": {
    "collapsed": false
   },
   "outputs": [
    {
     "name": "stdout",
     "output_type": "stream",
     "text": [
      "Displaying 25 of 59 matches:\n",
      "to the game . chapter ix . the mock turtle ' s story ' you can ' t think how g\n",
      "to alice , ' have you seen the mock turtle yet ?' ' no ,' said alice . ' i don\n",
      ". ' i don ' t even know what a mock turtle is .' ' it ' s the thing mock turtl\n",
      "urtle is .' ' it ' s the thing mock turtle soup is made from ,' said the queen\n",
      "ake this young lady to see the mock turtle , and to hear his history . i must \n",
      "t gone far before they saw the mock turtle in the distance , sitting sad and l\n",
      "e on !' so they went up to the mock turtle , who looked at them with large eye\n",
      "i ' ll tell it her ,' said the mock turtle in a deep , hollow tone : ' sit dow\n",
      "patiently . ' once ,' said the mock turtle at last , with a deep sigh , ' i wa\n",
      ", with a deep sigh , ' i was a real turtle .' these words were followed by a v\n",
      " constant heavy sobbing of the mock turtle . alice was very nearly getting up \n",
      ". ' when we were little ,' the mock turtle went on at last , more calmly , tho\n",
      " in the sea . the master was an old turtle -- we used to call him tortoise --'\n",
      "cause he taught us ,' said the mock turtle angrily : ' really you are very dul\n",
      "t last the gryphon said to the mock turtle , ' drive on , old fellow ! don ' t\n",
      " alice . ' you did ,' said the mock turtle . ' hold your tongue !' added the g\n",
      " alice could speak again . the mock turtle went on . ' we had the best of educ\n",
      " .' ' with extras ?' asked the mock turtle a little anxiously . ' yes ,' said \n",
      "c .' ' and washing ?' said the mock turtle . ' certainly not !' said alice ind\n",
      "really good school ,' said the mock turtle in a tone of great relief . ' now a\n",
      "afford to learn it .' said the mock turtle with a sigh . ' i only took the reg\n",
      " course , to begin with ,' the mock turtle replied ; ' and then the different \n",
      "bout it , so she turned to the mock turtle , and said ' what else had you to l\n",
      "ell , there was mystery ,' the mock turtle replied , counting off the subjects\n",
      " ' t show it you myself ,' the mock turtle said : ' i ' m too stiff . and the \n"
     ]
    }
   ],
   "source": [
    "alice.concordance('turtle')"
   ]
  },
  {
   "cell_type": "code",
   "execution_count": 28,
   "metadata": {
    "collapsed": false
   },
   "outputs": [
    {
     "name": "stdout",
     "output_type": "stream",
     "text": [
      "mock turtle; said alice; march hare; white rabbit; thought alice;\n",
      "beautiful soup; golden key; good deal; kid gloves; mary ann; yer\n",
      "honour; three gardeners; play croquet; white kid; lobster quadrille;\n",
      "ootiful soo; great hurry; poor little; poor alice; father william\n"
     ]
    }
   ],
   "source": [
    "alice.collocations()"
   ]
  },
  {
   "cell_type": "code",
   "execution_count": 29,
   "metadata": {
    "collapsed": false
   },
   "outputs": [
    {
     "name": "stdout",
     "output_type": "stream",
     "text": [
      "Populating the interactive namespace from numpy and matplotlib\n"
     ]
    },
    {
     "data": {
      "image/png": "[encoded data removed]",
      "text/plain": [
       "<matplotlib.figure.Figure at 0x112a54890>"
      ]
     },
     "metadata": {},
     "output_type": "display_data"
    }
   ],
   "source": [
    "%pylab inline \n",
    "alice.dispersion_plot(['alice','rabbit','turtle','queen'])"
   ]
  },
  {
   "cell_type": "markdown",
   "metadata": {},
   "source": [
    "##Term Frequency"
   ]
  },
  {
   "cell_type": "code",
   "execution_count": 30,
   "metadata": {
    "collapsed": false
   },
   "outputs": [],
   "source": [
    "from nltk.text import TextCollection\n",
    "gutenberg = TextCollection(nltk.corpus.gutenberg)"
   ]
  },
  {
   "cell_type": "code",
   "execution_count": 39,
   "metadata": {
    "collapsed": false
   },
   "outputs": [
    {
     "name": "stdout",
     "output_type": "stream",
     "text": [
      "*** Introductory Examples for the NLTK Book ***\n",
      "Loading text1, ..., text9 and sent1, ..., sent9\n",
      "Type the name of the text or sentence to view it.\n",
      "Type: 'texts()' or 'sents()' to list the materials.\n",
      "text1: Moby Dick by Herman Melville 1851\n",
      "text2: Sense and Sensibility by Jane Austen 1811\n",
      "text3: The Book of Genesis\n",
      "text4: Inaugural Address Corpus\n",
      "text5: Chat Corpus\n",
      "text6: Monty Python and the Holy Grail\n",
      "text7: Wall Street Journal\n",
      "text8: Personals Corpus\n",
      "text9: The Man Who Was Thursday by G . K . Chesterton 1908\n"
     ]
    }
   ],
   "source": [
    "from nltk.book import text1, text2, text3, text4, text5, text6, text7, text8, text9\n",
    "mytexts = TextCollection([text1, text2, text3])"
   ]
  },
  {
   "cell_type": "code",
   "execution_count": 40,
   "metadata": {
    "collapsed": false
   },
   "outputs": [
    {
     "name": "stdout",
     "output_type": "stream",
     "text": [
      "0.00070917776709\n",
      "0.0\n",
      "0.00224884043493\n"
     ]
    }
   ],
   "source": [
    "print gutenberg.tf_idf(\"rabbit\",text6) #Monty Python and the Holy Grail\n",
    "print gutenberg.tf_idf(\"rabbit\",text3) #The Book of Genesis\n",
    "print gutenberg.tf_idf(\"rabbit\",alice) #Alice"
   ]
  },
  {
   "cell_type": "code",
   "execution_count": 41,
   "metadata": {
    "collapsed": false
   },
   "outputs": [
    {
     "name": "stdout",
     "output_type": "stream",
     "text": [
      "13\n",
      "51\n",
      "8\n"
     ]
    }
   ],
   "source": [
    "print gutenberg.count(\"rabbit\")\n",
    "print alice.count(\"rabbit\")\n",
    "print text6.count(\"rabbit\")"
   ]
  },
  {
   "cell_type": "markdown",
   "metadata": {},
   "source": [
    "##Other Languages"
   ]
  },
  {
   "cell_type": "code",
   "execution_count": 45,
   "metadata": {
    "collapsed": false
   },
   "outputs": [
    {
     "name": "stdout",
     "output_type": "stream",
     "text": [
      "------------------------\n",
      "In the beginning God created the heaven and the earth.\n",
      "------------------------\n",
      "In the beginning God created the heavens and the earth.\n",
      "------------------------\n",
      "Alussa Jumala loi taivaan ja maan.\n",
      "------------------------\n",
      "Au commencement, Dieu créa les cieux et la terre.\n",
      "------------------------\n",
      "Am Anfang schuf Gott Himmel und Erde.\n",
      "------------------------\n",
      "Oh hai.\n",
      "------------------------\n",
      "No princípio, criou Deus os céus e a terra.\n",
      "------------------------\n",
      "I begynnelsen skapade Gud himmel och jord.\n"
     ]
    }
   ],
   "source": [
    "from nltk.corpus import genesis \n",
    "fileids = genesis.fileids()\n",
    "\n",
    "#tokenize at Sentence level. Print first sentence of each file.\n",
    "for file_name in fileids:\n",
    "    raw = genesis.raw(fileids=[file_name])\n",
    "    sents = nltk.sent_tokenize(raw)\n",
    "    print \"------------------------\"\n",
    "    print sents[0]"
   ]
  },
  {
   "cell_type": "markdown",
   "metadata": {},
   "source": [
    "##Information Extraction: Entities\n",
    "\n",
    "Entities can be people, locations, brand names, emails. How can you go around extracting these? Could maintain a list (previous approach) but this is inaccurate and inefficient. "
   ]
  },
  {
   "cell_type": "code",
   "execution_count": 54,
   "metadata": {
    "collapsed": false
   },
   "outputs": [
    {
     "name": "stdout",
     "output_type": "stream",
     "text": [
      "[('Jack', 'NNP'), ('and', 'CC'), ('Jill', 'NNP'), ('went', 'VBD'), ('to', 'TO'), ('Capitol', 'NNP'), ('Hill', 'NNP')]\n",
      "(S\n",
      "  (PERSON Jack/NNP)\n",
      "  and/CC\n",
      "  (PERSON Jill/NNP)\n",
      "  went/VBD\n",
      "  to/TO\n",
      "  (PERSON Capitol/NNP Hill/NNP))\n"
     ]
    }
   ],
   "source": [
    "from nltk.chunk import ne_chunk\n",
    "text = \"Jack and Jill went to Capitol Hill\"\n",
    "print nltk.pos_tag(nltk.word_tokenize(text))\n",
    "print ne_chunk(nltk.pos_tag(nltk.word_tokenize(text)))"
   ]
  },
  {
   "cell_type": "markdown",
   "metadata": {},
   "source": [
    "Clearly not perfect! Can get more sophisticated. Have to deal with ambiguity - Newton is a scientisit, location, and even a product. "
   ]
  },
  {
   "cell_type": "markdown",
   "metadata": {},
   "source": [
    "##Biggest Challenges"
   ]
  },
  {
   "cell_type": "markdown",
   "metadata": {},
   "source": [
    "Often the hardest challenge is tryign to find the best model. You need a model that is trained on the same kind of text you want to analyse - it is pointless using a model built on tweets when analysing news articles."
   ]
  },
  {
   "cell_type": "markdown",
   "metadata": {},
   "source": [
    "Another challenge is trying to disambiguate entities. Cna use Entity resolution to infer this - for example telling the difference between Mr Armstrong (being either Neil or Lance). "
   ]
  },
  {
   "cell_type": "code",
   "execution_count": null,
   "metadata": {
    "collapsed": false
   },
   "outputs": [],
   "source": []
  }
 ],
 "metadata": {
  "kernelspec": {
   "display_name": "Python 2",
   "language": "python",
   "name": "python2"
  },
  "language_info": {
   "codemirror_mode": {
    "name": "ipython",
    "version": 2
   },
   "file_extension": ".py",
   "mimetype": "text/x-python",
   "name": "python",
   "nbconvert_exporter": "python",
   "pygments_lexer": "ipython2",
   "version": "2.7.6"
  }
 },
 "nbformat": 4,
 "nbformat_minor": 0
}
